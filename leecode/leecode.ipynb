{
 "cells": [
  {
   "cell_type": "code",
   "execution_count": null,
   "metadata": {},
   "outputs": [],
   "source": [
    "class Delesameapha(object):\n",
    "    def __init__(self, *args):\n",
    "        super(Delesameapha, self).__init__(*args)\n",
    "        \n",
    "    def FunctionName(args):\n",
    "            \n",
    "        "
   ]
  },
  {
   "cell_type": "code",
   "execution_count": null,
   "metadata": {},
   "outputs": [],
   "source": [
    "#   主持人调度（二）\n",
    "# 排序+遍历比较\n",
    "# 贪心思想：动态规划思想中的一种，基本原理是找出整体当中每个局部子结构的最优解并且\n",
    "# 最终将所有局部最优解结合起来形成整体最优解。\n",
    "# step1 ： 利用辅助数或缺单独活动开始时间和结束时间，然后分别排序\n",
    "# step2 ： 遍历n个活动，如果某个活动开始时间大于之前活动结束时间，当前主持人就够了\n",
    "# step3 ： 若活动结束时间晚于当前活动开始时间，增加主持人\n",
    "# 计算成功举办活动需要多少名主持人\n",
    "# @param n int整型 有n个活动\n",
    "# @param startEnd int整型二维数组 startEnd[i][0]用于表示第i个活动的开始时间，startEnd[i][1]表示第i个活动的结束时间\n",
    "# @return int整型\n",
    " \n",
    "class Solution:\n",
    "    def minmumNumberOfHost(self, n: int, startEnd: List[List[int]]) -> int:\n",
    "        start = list()\n",
    "        end = list()\n",
    "        #分别得到活动起始时间\n",
    "        for i in range(n):\n",
    "            start.append(startEnd[i][0])\n",
    "            end.append(startEnd[i][1])\n",
    "        #分别对开始和结束时间排序\n",
    "        start.sort()\n",
    "        end.sort()\n",
    "        res = 0\n",
    "        j = 0\n",
    "        for i in range(n):\n",
    "            #新开始的节目大于上一轮技术的时间，主持人不变\n",
    "            if start[i] >= end [j]:\n",
    "                j += 1\n",
    "            else:\n",
    "                #主持人增加\n",
    "                res += 1\n",
    "        return res\n",
    "    \n",
    "\n",
    "            \n",
    "        \n"
   ]
  },
  {
   "cell_type": "code",
   "execution_count": null,
   "metadata": {},
   "outputs": [],
   "source": [
    "# pick candy\n",
    "# @param arr int整型一维数组 the array\n",
    "# @return int整型\n",
    "\n",
    "# 具体做法:\n",
    "# step 1：使用一个辅助数组记录每个位置的孩子分到的糖果，全部初始化为1.\n",
    "# step 2：从左到右遍历数组，如果右边元素比相邻左边元素大，意味着在递增，糖果数就是前一个加1，否则保持1不变。\n",
    "# step 3：从右到左遍历数组，如果左边元素比相邻右边元素大， 意味着在原数组中是递减部分，如果左边在上一轮中分到的糖果数更小，则更新为右边的糖果数+1，否则保持不变。\n",
    "# step 4：将辅助数组中的元素累加求和。\n",
    "\n",
    "class Solution:\n",
    "    def candy(self, arr: List[int])-> int:\n",
    "        #记录每个位置的糖果数\n",
    "        nums = [1] * len(arr)\n",
    "        #从左到右遍历\n",
    "        for i in range(1, len(arr)):\n",
    "            if arr[i] > arr[i - 1]:\n",
    "                nums[i] = nums[i - 1] + 1\n",
    "        #纪录总糖果数\n",
    "        res = nums[len(arr) - 1]\n",
    "        i = len(arr) - 2\n",
    "        #从右到左遍历\n",
    "        while i >= 0 :\n",
    "            #如果左边更大但是糖果更少\n",
    "            if arr[i] > arr[i + 1] and nums[i] <= nums[i + 1]:\n",
    "                nums[i] = nums [i + 1] + 1\n",
    "            res += nums[i]\n",
    "            i -= 1\n",
    "        return res\n",
    "            \n",
    "        "
   ]
  },
  {
   "cell_type": "code",
   "execution_count": 16,
   "metadata": {},
   "outputs": [],
   "source": [
    "class Interval:\n",
    "    def __init__(self, a=0, b=0):\n",
    "        self.start = a\n",
    "        self.end = b\n",
    "\n",
    "# 合并区间\n",
    "# @param intervals Interval类一维数组 \n",
    "# @return Interval类一维数组\n",
    "# 具体做法：\n",
    "\n",
    "# step 1：既然要求重叠后的区间按照起点位置升序排列，我们就将所有区间按照起点位置先进行排序。使用sort函数进行排序，重载比较方式为比较interval结构的start变量。\n",
    "# step 2：排序后的第一个区间一定是起点值最小的区间，我们将其计入返回数组res，然后遍历后续区间。\n",
    "# step 3：后续遍历过程中，如果遇到起点值小于res中最后一个区间的末尾值的情况，那一定是重叠，取二者最大末尾值更新res中最后一个区间即可。\n",
    "# step 4：如果遇到起点值大于res中最后一个区间的末尾值的情况，那一定没有重叠，后续也不会有这个末尾的重叠区间了，因为后面的起点只会更大，因此可以将它加入res。\n",
    "\n",
    "\n",
    "from functools import cmp_to_key\n",
    " \n",
    "class Solution:\n",
    "    def merge(self , intervals: List[Interval]) -> List[Interval]:\n",
    "        res = list()\n",
    "        #去除特殊情况\n",
    "        if len(intervals) == 0:\n",
    "            return res\n",
    "        #按照区间首排序\n",
    "        intervals.sort(key=cmp_to_key(lambda a,b:a.start - b.start))\n",
    "        #放入第一个区间\n",
    "        res.append(intervals[0])\n",
    "        #遍历后续区间，查看是否与末尾有重叠\n",
    "        for i in range(len(intervals)):\n",
    "            #区间有重叠，更新结尾\n",
    "            if intervals[i].start <= res[-1].end:\n",
    "                res[-1].end = max(res[-1].end, intervals[i].end)\n",
    "            #区间没有重叠，直接加入\n",
    "            else:\n",
    "                res.append(intervals[i])\n",
    "        return res"
   ]
  },
  {
   "cell_type": "code",
   "execution_count": 24,
   "metadata": {},
   "outputs": [
    {
     "name": "stdout",
     "output_type": "stream",
     "text": [
      "4\n",
      "50\n"
     ]
    }
   ],
   "source": [
    "# class ListNode:\n",
    "#     def __init__(self, x):\n",
    "#         self.val = x\n",
    "#         self.next = None\n",
    "# 反转链表\n",
    "# @param head ListNode类 \n",
    "# @return ListNode类\n",
    "#\n",
    "class Solution:\n",
    "    def ReverseList(self , head: ListNode) -> ListNode:\n",
    "       #处理空链表\n",
    "        if not head:\n",
    "            return None\n",
    "        cur = head\n",
    "        pre = None\n",
    "        while cur:\n",
    "            #断开链表，要记录后续一个\n",
    "            temp = cur.next\n",
    "            #当前的next指向前一个\n",
    "            cur.next = pre\n",
    "            #前一个更新为当前\n",
    "            pre = cur\n",
    "            #当前更新为刚刚记录的后一个\n",
    "            cur = temp\n",
    "        return pre"
   ]
  }
 ],
 "metadata": {
  "kernelspec": {
   "display_name": "Python 3.9.7 ('base')",
   "language": "python",
   "name": "python3"
  },
  "language_info": {
   "codemirror_mode": {
    "name": "ipython",
    "version": 3
   },
   "file_extension": ".py",
   "mimetype": "text/x-python",
   "name": "python",
   "nbconvert_exporter": "python",
   "pygments_lexer": "ipython3",
   "version": "3.9.7"
  },
  "vscode": {
   "interpreter": {
    "hash": "ec3b6344b8b3f6c3db1463248c46b8920f4fc68f6187e2c1e71f56a52299e245"
   }
  }
 },
 "nbformat": 4,
 "nbformat_minor": 4
}
