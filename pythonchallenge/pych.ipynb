{
 "cells": [
  {
   "cell_type": "code",
   "execution_count": 3,
   "metadata": {},
   "outputs": [
    {
     "name": "stdout",
     "output_type": "stream",
     "text": [
      "274877906944\n"
     ]
    }
   ],
   "source": [
    "#Importing the libraries \n",
    "\n",
    "import pandas as pd\n",
    "import numpy as np\n",
    "import matplotlib.pyplot as plt\n",
    "import seaborn as sns\n",
    "\n",
    "#challenge0\n",
    "a=2**38 #幂次方\n",
    "print (a)"
   ]
  },
  {
   "cell_type": "code",
   "execution_count": 14,
   "metadata": {},
   "outputs": [
    {
     "name": "stdout",
     "output_type": "stream",
     "text": [
      "i hope you didnt translate it by hand. thats what computers are for. doing it in by hand is inefficient and that's why this text is so long. using string.maketrans() is recommended. now apply on the url.ocr\n"
     ]
    }
   ],
   "source": [
    "#challenge1\n",
    "#ord() 函数是 chr() 函数（对于8位的ASCII字符串）或 unichr() 函数（对于Unicode对象）的配对函数\n",
    "# 它以一个字符（长度为1的字符串）作为参数，返回对应的 ASCII 数值，或者 Unicode 数值\n",
    "\n",
    "s=\"g fmnc wms bgblr rpylqjyrc gr zw fylb. rfyrq ufyr amknsrcpq ypc dmp. bmgle gr gl zw fylb gq glcddgagclr ylb rfyr'q ufw rfgq rcvr gq qm jmle. sqgle qrpgle.kyicrpylq() gq pcamkkclbcb. lmu ynnjw ml rfc spj.\"\n",
    "\n",
    "for i in range(len(s)):\n",
    "    if ord(s[i])>=ord('a') and ord(s[i])<=ord('x'):\n",
    "        c=chr(ord(s[i])+2)\n",
    "        print(c,end='')\n",
    "    elif ord(s[i])>=ord('y') and ord(s[i])<=ord('z'):\n",
    "        c=chr(ord(s[i])-24)\n",
    "        print(c,end='')\n",
    "    else:\n",
    "        print(s[i],end='')\n",
    "\n",
    "#string.maketrans(x[, y[, z]])\n",
    "# x -- 必需，字符串中要替代的字符组成的字符串。\n",
    "# y -- 可选，相应的映射字符的字符串。\n",
    "# z -- 可选，要删除的字符。\n",
    "intab = \"abcdefghlmnopq\"\n",
    "outtab = \"cdefghlmnopqrs\"\n",
    "trantab = str.maketrans(intab, outtab)\n",
    "\n",
    "s1 = \"map\"\n",
    "print (s1.translate(trantab)) "
   ]
  }
 ],
 "metadata": {
  "kernelspec": {
   "display_name": "Python 3.9.7 ('base')",
   "language": "python",
   "name": "python3"
  },
  "language_info": {
   "codemirror_mode": {
    "name": "ipython",
    "version": 3
   },
   "file_extension": ".py",
   "mimetype": "text/x-python",
   "name": "python",
   "nbconvert_exporter": "python",
   "pygments_lexer": "ipython3",
   "version": "3.9.7"
  },
  "vscode": {
   "interpreter": {
    "hash": "ec3b6344b8b3f6c3db1463248c46b8920f4fc68f6187e2c1e71f56a52299e245"
   }
  }
 },
 "nbformat": 4,
 "nbformat_minor": 4
}
