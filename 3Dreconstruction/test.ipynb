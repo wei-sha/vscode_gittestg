{
 "cells": [
  {
   "cell_type": "code",
   "execution_count": 9,
   "metadata": {},
   "outputs": [],
   "source": [
    "import numpy as np\n",
    "import pandas as pd\n",
    "\n",
    "def getImagAddress(filepath,filenum):\n",
    "        associatepath =  filepath + 'associate.txt'\n",
    "        file = open(associatepath,encoding=\"utf-16\") \n",
    "        data = pd.read_table(file,header=None,)\n",
    "        List = data[0:filenum]\n",
    "        list = List[0].str.split(' ')\n",
    "        rgbaddress = []\n",
    "        depthaddress = []\n",
    "        for i in range(len(list)):   \n",
    "                rgbaddress.append(filepath + list[i][1])  \n",
    "                depthaddress.append(filepath + list[i][3])  \n",
    "        return rgbaddress,depthaddress\n",
    "filepath = 'G:/Master/digitaltwins/3dreconstruction/dataset/rgbd_f3_long_office_household_validation/'\n",
    "filenum = 3 \n",
    "rgbad,depthad = getImagAddress(filepath,filenum)\n",
    "\n",
    "def getImag(rgbaddress,depthaddress):\n",
    "        \n"
   ]
  },
  {
   "cell_type": "code",
   "execution_count": 21,
   "metadata": {},
   "outputs": [
    {
     "name": "stdout",
     "output_type": "stream",
     "text": [
      "rgb图 (480, 640, 3)\n",
      "深度图 (480, 640, 3)\n",
      "rgb图 (480, 640, 3)\n",
      "深度图 (480, 640, 3)\n",
      "rgb图 (480, 640, 3)\n",
      "深度图 (480, 640, 3)\n",
      "rgb图 (480, 640, 3)\n",
      "深度图 (480, 640, 3)\n",
      "rgb图 (480, 640, 3)\n",
      "深度图 (480, 640, 3)\n",
      "rgb图 (480, 640, 3)\n",
      "深度图 (480, 640, 3)\n",
      "rgb图 (480, 640, 3)\n",
      "深度图 (480, 640, 3)\n",
      "rgb图 (480, 640, 3)\n",
      "深度图 (480, 640, 3)\n"
     ]
    }
   ],
   "source": [
    "import os\n",
    "import cv2\n",
    "import numpy as np\n",
    "import pandas as pd\n",
    "file = open('test.txt') \n",
    "data = pd.read_table(file,header=None,)\n",
    "list = data[0].str.split(' ')\n",
    "X_train = np.empty((8,480,640,3))\n",
    "Y_train = np.empty((8,480,640,3))\n",
    "for i in range(len(list)):\n",
    "    rgbaddress = list[i][1]\n",
    "    depthaddress = list[i][3]\n",
    "    file_pass = 'G:/Master/digitaltwins/3dreconstruction/dataset/rgbd_f3_long_office_household_validation/'\n",
    "    rgbname = file_pass + rgbaddress\n",
    "    depthname = file_pass + depthaddress\n",
    "    image_rgb = cv2.imread(rgbname)\n",
    "    print(\"rgb图\",image_rgb.shape)\n",
    "    image_depth = cv2.imread(depthname)\n",
    "    print(\"深度图\",image_depth.shape)\n",
    "    X_train[i] = image_rgb\n",
    "    Y_train[i] = image_depth\n",
    "\n",
    "\n",
    "\n",
    "\n",
    "\n",
    "\n",
    "\n",
    "# cv2.imshow('test1', image_rgb)\n",
    "# cv2.waitKey(0)\n",
    "\n",
    "   "
   ]
  }
 ],
 "metadata": {
  "kernelspec": {
   "display_name": "Python 3.8.10 64-bit",
   "language": "python",
   "name": "python3"
  },
  "language_info": {
   "codemirror_mode": {
    "name": "ipython",
    "version": 3
   },
   "file_extension": ".py",
   "mimetype": "text/x-python",
   "name": "python",
   "nbconvert_exporter": "python",
   "pygments_lexer": "ipython3",
   "version": "3.8.10"
  },
  "vscode": {
   "interpreter": {
    "hash": "0616b1f9fe0eed6a21ffdc3a6a9afe78cfa180a76c4f2f8a5cdb306c68d1896c"
   }
  }
 },
 "nbformat": 4,
 "nbformat_minor": 4
}
